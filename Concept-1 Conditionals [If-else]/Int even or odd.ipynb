{
 "cells": [
  {
   "cell_type": "markdown",
   "metadata": {},
   "source": [
    "1. Given an integer, check if it is even or odd."
   ]
  },
  {
   "cell_type": "code",
   "execution_count": 1,
   "metadata": {},
   "outputs": [
    {
     "name": "stdout",
     "output_type": "stream",
     "text": [
      "Odd\n"
     ]
    }
   ],
   "source": [
    "#x is given integer\n",
    "#This code will take integer as input and will check the given integer is even or odd and results the output accordingly \n",
    "x=int(input(\"enter a integer\"))                                         \n",
    "if x!=0:\n",
    "    #if x divided by 2 gives the remainder 0 then number is even\n",
    "    if x%2==0:\n",
    "        print(\"Even\")\n",
    "\n",
    "    #if x divided by 2 do not gives the remainder 0 then number is even\n",
    "    elif x%2!=2:\n",
    "        print(\"Odd\")\n",
    "else:\n",
    "    print(\"Given number is: 0\")"
   ]
  },
  {
   "cell_type": "code",
   "execution_count": null,
   "metadata": {},
   "outputs": [],
   "source": []
  }
 ],
 "metadata": {
  "kernelspec": {
   "display_name": "Python 3",
   "language": "python",
   "name": "python3"
  },
  "language_info": {
   "codemirror_mode": {
    "name": "ipython",
    "version": 3
   },
   "file_extension": ".py",
   "mimetype": "text/x-python",
   "name": "python",
   "nbconvert_exporter": "python",
   "pygments_lexer": "ipython3",
   "version": "3.11.6"
  }
 },
 "nbformat": 4,
 "nbformat_minor": 2
}
