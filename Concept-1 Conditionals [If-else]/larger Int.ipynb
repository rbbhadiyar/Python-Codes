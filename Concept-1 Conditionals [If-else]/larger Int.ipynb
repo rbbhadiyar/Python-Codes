{
 "cells": [
  {
   "cell_type": "markdown",
   "metadata": {},
   "source": [
    "2. Given two integers, find the larger one."
   ]
  },
  {
   "cell_type": "code",
   "execution_count": 2,
   "metadata": {},
   "outputs": [
    {
     "name": "stdout",
     "output_type": "stream",
     "text": [
      "y is larger\n"
     ]
    }
   ],
   "source": [
    "# x and y are given two integers\n",
    "#This code will take two integers as input and gives us which inteager is greater or both are equal.\n",
    "x = int(input(\"Enter a integer\"))\n",
    "y = int(input(\"Enter another integer\"))\n",
    "if x>y:\n",
    "    print(\"x is larger\")\n",
    "elif y>x:\n",
    "    print(\"y is larger\")\n",
    "else:\n",
    "    print(\"Both are equal\")\n",
    "\n"
   ]
  },
  {
   "cell_type": "code",
   "execution_count": null,
   "metadata": {},
   "outputs": [],
   "source": []
  }
 ],
 "metadata": {
  "kernelspec": {
   "display_name": "Python 3",
   "language": "python",
   "name": "python3"
  },
  "language_info": {
   "codemirror_mode": {
    "name": "ipython",
    "version": 3
   },
   "file_extension": ".py",
   "mimetype": "text/x-python",
   "name": "python",
   "nbconvert_exporter": "python",
   "pygments_lexer": "ipython3",
   "version": "3.11.6"
  }
 },
 "nbformat": 4,
 "nbformat_minor": 2
}
