{
 "cells": [
  {
   "cell_type": "markdown",
   "metadata": {},
   "source": [
    "3. Given a temperature in Celsius, convert it to Fahrenheit using the formula F = (C * 1.8) + 32. If the temperature is above 90°F, print “It’s hot outside!” otherwise, print “The temperature is pleasant”."
   ]
  },
  {
   "cell_type": "code",
   "execution_count": 3,
   "metadata": {},
   "outputs": [
    {
     "name": "stdout",
     "output_type": "stream",
     "text": [
      "Temperature in fahrenheit is: 122.0\n",
      "It's hot outside\n"
     ]
    }
   ],
   "source": [
    "# This code converts temperature in celsius to temperature in fahrenheit and gives the output according to above problem.\n",
    "#taking temperature in celsius\n",
    "celsius=float(input(\"Enter the temperature celsius\"))\n",
    "\n",
    "#converting temperature in celsius into temperature in fahrenheit \n",
    "fahrenheit=(celsius*1.8)+32\n",
    "print(\"Temperature in fahrenheit is:\",fahrenheit)\n",
    "\n",
    "#according to question\n",
    "if fahrenheit>90:\n",
    "    print(\"It's hot outside\")\n",
    "else:\n",
    "    print(\"The temperature is pleasant\")"
   ]
  },
  {
   "cell_type": "code",
   "execution_count": null,
   "metadata": {},
   "outputs": [],
   "source": []
  }
 ],
 "metadata": {
  "kernelspec": {
   "display_name": "Python 3",
   "language": "python",
   "name": "python3"
  },
  "language_info": {
   "codemirror_mode": {
    "name": "ipython",
    "version": 3
   },
   "file_extension": ".py",
   "mimetype": "text/x-python",
   "name": "python",
   "nbconvert_exporter": "python",
   "pygments_lexer": "ipython3",
   "version": "3.11.6"
  }
 },
 "nbformat": 4,
 "nbformat_minor": 2
}
