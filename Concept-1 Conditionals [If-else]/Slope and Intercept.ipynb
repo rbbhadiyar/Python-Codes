{
 "cells": [
  {
   "cell_type": "markdown",
   "metadata": {},
   "source": [
    "7. Given two points (x1, y1) and (x2, y2), find the slope and intercept of the line joining these two points (the line may be perfectly horizontal or vertical)."
   ]
  },
  {
   "cell_type": "code",
   "execution_count": 2,
   "metadata": {},
   "outputs": [
    {
     "name": "stdout",
     "output_type": "stream",
     "text": [
      "The Slope of the line is: 1.0\n",
      "The Intercept of the line is: 2.0\n"
     ]
    }
   ],
   "source": [
    "#In this first we take the coordinate of two points in the form of (x1,y1) and (x2,y2) and then we find the slope and intercept accordingly.\n",
    "x1=float(input(\"Enter x1 coordinate\"))\n",
    "y1=float(input(\"Enter y1 coordinate\"))\n",
    "x2=float(input(\"Enter x1 coordinate\"))\n",
    "y2=float(input(\"Enter y2 coordinate\")) \n",
    "\n",
    "#if both points x coordinate is equal then the line will be vertical and intercept will not exist\n",
    "if x1 == x2:\n",
    "    print(\"The line is vertical; slope and intercept doesn't exist\")\n",
    "\n",
    "#if above condition do not satisfies then we will calculate slope and intercept using formula\n",
    "else:\n",
    "    slope = (y2-y1)/(x2-x1)\n",
    "    intercept = y1 - slope*x1\n",
    "    print(\"The Slope of the line is:\",slope)\n",
    "    print(\"The Intercept of the line is:\",intercept)\n",
    "\n",
    "#if slope comes out to be zero then the line will be horizontal\n",
    "if slope==0:\n",
    "    print(\"The Line is horizontal\")\n"
   ]
  },
  {
   "cell_type": "code",
   "execution_count": null,
   "metadata": {},
   "outputs": [],
   "source": []
  }
 ],
 "metadata": {
  "kernelspec": {
   "display_name": "Python 3",
   "language": "python",
   "name": "python3"
  },
  "language_info": {
   "codemirror_mode": {
    "name": "ipython",
    "version": 3
   },
   "file_extension": ".py",
   "mimetype": "text/x-python",
   "name": "python",
   "nbconvert_exporter": "python",
   "pygments_lexer": "ipython3",
   "version": "3.11.6"
  }
 },
 "nbformat": 4,
 "nbformat_minor": 2
}
