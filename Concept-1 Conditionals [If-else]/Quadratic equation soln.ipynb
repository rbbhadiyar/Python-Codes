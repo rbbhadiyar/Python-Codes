{
 "cells": [
  {
   "cell_type": "markdown",
   "metadata": {},
   "source": [
    "8. Given a quadratic equation with coefficients a, b and\n",
    "c, find the two solutions (may be real or complex).\n",
    "You should not take the square root of a negative\n",
    "number in your code."
   ]
  },
  {
   "cell_type": "code",
   "execution_count": 8,
   "metadata": {},
   "outputs": [
    {
     "name": "stdout",
     "output_type": "stream",
     "text": [
      "Quadratic equation is 20.0 x^2+ 50.0 x+ 60.0\n",
      "Imaginary roots\n"
     ]
    }
   ],
   "source": [
    "\n",
    "a=float(input(\"Enter coefficient of x^2\"))\n",
    "b=float(input(\"Enter coefficient of x\"))\n",
    "c=float(input(\"Enter constant\"))\n",
    "if a==0:\n",
    "    m=-c/b\n",
    "    print(\"linear equation with x=\", m)\n",
    "elif a!=0:\n",
    "    print(\"Quadratic equation is\",a,\"x^2+\",b,\"x+\",c)\n",
    "    t=b**2-4*a*c\n",
    "    x1=(-b+t**0.5)/2*a\n",
    "    x2=(-b-t**0.5)/2*a\n",
    "    if t>0:\n",
    "        print(\"Roots are real and unequal\", x1, \"and\",x2)\n",
    "    elif t==0:\n",
    "        print(\"Roots are equal\",x1)\n",
    "    else:\n",
    "        print(\"Imaginary roots\")"
   ]
  },
  {
   "cell_type": "code",
   "execution_count": null,
   "metadata": {},
   "outputs": [],
   "source": []
  }
 ],
 "metadata": {
  "kernelspec": {
   "display_name": "Python 3",
   "language": "python",
   "name": "python3"
  },
  "language_info": {
   "codemirror_mode": {
    "name": "ipython",
    "version": 3
   },
   "file_extension": ".py",
   "mimetype": "text/x-python",
   "name": "python",
   "nbconvert_exporter": "python",
   "pygments_lexer": "ipython3",
   "version": "3.11.6"
  }
 },
 "nbformat": 4,
 "nbformat_minor": 2
}
