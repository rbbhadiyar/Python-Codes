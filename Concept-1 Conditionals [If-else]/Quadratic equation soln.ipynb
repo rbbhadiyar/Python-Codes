{
 "cells": [
  {
   "cell_type": "markdown",
   "metadata": {},
   "source": [
    "8. Given a quadratic equation with coefficients a, b and\n",
    "c, find the two solutions (may be real or complex).\n",
    "You should not take the square root of a negative\n",
    "number in your code."
   ]
  },
  {
   "cell_type": "code",
   "execution_count": 2,
   "metadata": {},
   "outputs": [
    {
     "name": "stdout",
     "output_type": "stream",
     "text": [
      "Complex(Imaginary roots exist and are: -0.06 + 0.23748684174075835 i and -0.06 - 0.23748684174075835 i\n"
     ]
    }
   ],
   "source": [
    "#This codes takes three coefficients of a quadratic equation as input and gives us the roots if exist and tells whether they are real or imaginary.\n",
    "#Equation in the format ax2 +bx + c\n",
    "a=float(input(\"Enter coefficient of x^2\"))\n",
    "b=float(input(\"Enter coefficient of x\"))\n",
    "c=float(input(\"Enter constant\"))\n",
    "#finding determinant\n",
    "determinant=b**2-(4*a*c)\n",
    "\n",
    "#using quadratic formula to find roots\n",
    "root1=((-b)+(determinant**0.5))/(2*a)\n",
    "root2=((-b)-(determinant**0.5))/(2*a)\n",
    "\n",
    "#checking for quadratic or linear\n",
    "#if a==o equation is linear otherwise equation is quadratic\n",
    "if a==0:\n",
    "    print(\"Equation is linear and its root are\", -c/b)\n",
    "\n",
    "else:\n",
    "    #if determinant==0, roots are real and equal\n",
    "    if determinant==0:\n",
    "        print('Roots are real, equal and are:',root1,root2)\n",
    "\n",
    "    #if determinant<0 then roots are imaginary(complex)\n",
    "    elif determinant<0:\n",
    "        #making determinant positive by multiplying it with minus(-) sign\n",
    "        #complex roots are combination of real and imaginary part so, here we finds real and imaginary part of roots\n",
    "        #i==underroot -1\n",
    "        real_part=(-b)/(2*a)\n",
    "        imag_part=((-determinant)**0.5)/(2*a)\n",
    "        print(\"Complex(Imaginary) roots exist and are:\",real_part,\"+\",imag_part,\"i\", \"and\", real_part,\"-\",imag_part,\"i\")\n",
    "\n",
    "    #otherwise we have real roots\n",
    "    else:\n",
    "        print('Roots are real and are:', root1,\",\", root2 )\n",
    "\n",
    "    "
   ]
  },
  {
   "cell_type": "code",
   "execution_count": null,
   "metadata": {},
   "outputs": [],
   "source": []
  }
 ],
 "metadata": {
  "kernelspec": {
   "display_name": "Python 3",
   "language": "python",
   "name": "python3"
  },
  "language_info": {
   "codemirror_mode": {
    "name": "ipython",
    "version": 3
   },
   "file_extension": ".py",
   "mimetype": "text/x-python",
   "name": "python",
   "nbconvert_exporter": "python",
   "pygments_lexer": "ipython3",
   "version": "3.11.6"
  }
 },
 "nbformat": 4,
 "nbformat_minor": 2
}
