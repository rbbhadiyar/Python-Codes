{
 "cells": [
  {
   "cell_type": "markdown",
   "metadata": {},
   "source": [
    "10. Given three integers, find the smallest one."
   ]
  },
  {
   "cell_type": "code",
   "execution_count": 8,
   "metadata": {},
   "outputs": [
    {
     "name": "stdout",
     "output_type": "stream",
     "text": [
      "C is Smallest\n"
     ]
    }
   ],
   "source": [
    "a=int(input(\"Enter a integer\"))\n",
    "b=int(input(\"Enter another integer\"))\n",
    "c=int(input(\"Enter another integer\"))\n",
    "if a<b and a<c :\n",
    "    print(\"A is Smallest \")\n",
    "elif b<c:\n",
    "    print(\"B is Smallest\")\n",
    "else:\n",
    "    print (\"C is Smallest\")"
   ]
  },
  {
   "cell_type": "code",
   "execution_count": null,
   "metadata": {},
   "outputs": [],
   "source": []
  }
 ],
 "metadata": {
  "kernelspec": {
   "display_name": "Python 3",
   "language": "python",
   "name": "python3"
  },
  "language_info": {
   "codemirror_mode": {
    "name": "ipython",
    "version": 3
   },
   "file_extension": ".py",
   "mimetype": "text/x-python",
   "name": "python",
   "nbconvert_exporter": "python",
   "pygments_lexer": "ipython3",
   "version": "3.11.6"
  }
 },
 "nbformat": 4,
 "nbformat_minor": 2
}
