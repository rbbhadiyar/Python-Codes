{
 "cells": [
  {
   "cell_type": "markdown",
   "metadata": {},
   "source": [
    "5. Given two numbers, a and b, find the value of a/b (b\n",
    "may be zero)."
   ]
  },
  {
   "cell_type": "code",
   "execution_count": 2,
   "metadata": {},
   "outputs": [
    {
     "name": "stdout",
     "output_type": "stream",
     "text": [
      "Value of a/b: 1.0\n"
     ]
    }
   ],
   "source": [
    "# This code takes the input in form of a and b and gives the value of a/b as output. if b=0 it will give output as not defined as division by 0 is not defined.\n",
    "a = float(input(\"Enter  number\"))\n",
    "b = float(input(\"Enter another number\"))\n",
    "if b==0:\n",
    "    print(\"Not defined\")\n",
    "else:\n",
    "    print(\"Value of a/b:\",a/b)\n",
    "\n",
    "\n"
   ]
  },
  {
   "cell_type": "code",
   "execution_count": null,
   "metadata": {},
   "outputs": [],
   "source": []
  }
 ],
 "metadata": {
  "kernelspec": {
   "display_name": "Python 3",
   "language": "python",
   "name": "python3"
  },
  "language_info": {
   "codemirror_mode": {
    "name": "ipython",
    "version": 3
   },
   "file_extension": ".py",
   "mimetype": "text/x-python",
   "name": "python",
   "nbconvert_exporter": "python",
   "pygments_lexer": "ipython3",
   "version": "3.11.6"
  }
 },
 "nbformat": 4,
 "nbformat_minor": 2
}
