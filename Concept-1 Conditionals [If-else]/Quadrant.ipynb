{
 "cells": [
  {
   "cell_type": "markdown",
   "metadata": {},
   "source": [
    "6. Given a point (x1, y1), find the quadrant in which this\n",
    "point lies."
   ]
  },
  {
   "cell_type": "code",
   "execution_count": 23,
   "metadata": {},
   "outputs": [
    {
     "name": "stdout",
     "output_type": "stream",
     "text": [
      "Point is on Origin\n"
     ]
    }
   ],
   "source": [
    "x1=float(input(\"Enter first point\"))\n",
    "y1=float(input(\"Enter second point\"))\n",
    "if x1==0 and y1==0:\n",
    "    print(\"Point is on Origin\")\n",
    "elif x1==0:\n",
    "    print(\"Point is on Y-Axis\")\n",
    "elif y1==0:\n",
    "    print(\"Point is on X-Axis\")\n",
    "else:\n",
    "    if x1>0:\n",
    "        if y1>0:\n",
    "            print(\"Point is in First Quadrant\")\n",
    "        elif y1<0:\n",
    "                print(\"Point is in fourth Quadrant\")\n",
    "    elif x1<0 and y1>0:\n",
    "        print(\"Point iS in second Quadrant\")\n",
    "    else:\n",
    "        print(\"Point is in Third Quadrant\")"
   ]
  },
  {
   "cell_type": "code",
   "execution_count": null,
   "metadata": {},
   "outputs": [],
   "source": []
  }
 ],
 "metadata": {
  "kernelspec": {
   "display_name": "Python 3",
   "language": "python",
   "name": "python3"
  },
  "language_info": {
   "codemirror_mode": {
    "name": "ipython",
    "version": 3
   },
   "file_extension": ".py",
   "mimetype": "text/x-python",
   "name": "python",
   "nbconvert_exporter": "python",
   "pygments_lexer": "ipython3",
   "version": "3.11.6"
  }
 },
 "nbformat": 4,
 "nbformat_minor": 2
}
