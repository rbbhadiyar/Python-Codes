{
 "cells": [
  {
   "cell_type": "markdown",
   "metadata": {},
   "source": [
    "6. Given a point (x1, y1), find the quadrant in which this\n",
    "point lies."
   ]
  },
  {
   "cell_type": "code",
   "execution_count": 23,
   "metadata": {},
   "outputs": [
    {
     "name": "stdout",
     "output_type": "stream",
     "text": [
      "Point is on Origin\n"
     ]
    }
   ],
   "source": [
    "#This code take two Coordinates of a point as input and tells us that where the points lies in a cartesian plane.\n",
    "x1=float(input(\"Enter x coordinate of a point\"))\n",
    "y1=float(input(\"Enter y coordinate of a point\"))\n",
    "\n",
    "#if both the coordinates are zero then the point is at origin\n",
    "if x1==0 and y1==0:\n",
    "    print(\"Point is on Origin\")\n",
    "\n",
    "#if x coordinate is zero then point exist on y axis\n",
    "elif x1==0:\n",
    "    print(\"Point is on Y-Axis\")\n",
    "\n",
    "#if y coordinate is zero then point exist on x axis\n",
    "elif y1==0:\n",
    "    print(\"Point is on X-Axis\")\n",
    "\n",
    "else:\n",
    "    #if both the coordinates are greater than zero then the point is in first quadrant\n",
    "    if x1>0:\n",
    "        if y1>0:\n",
    "            print(\"Point is in First Quadrant\")\n",
    "\n",
    "        #if  x coordinates is greater than zero and y coordinate is less than zero then the point in fourth quadrant\n",
    "        elif y1<0:\n",
    "                print(\"Point is in fourth Quadrant\")\n",
    "    \n",
    "    #if  x coordinates is less than zero and y coordinate is greater than zero then the point in second quadrant\n",
    "    elif x1<0 and y1>0:\n",
    "        print(\"Point iS in second Quadrant\")\n",
    "    \n",
    "    #if both the coordinates are less than zero then the point is in Third quadrant\n",
    "    else:\n",
    "        print(\"Point is in Third Quadrant\")"
   ]
  },
  {
   "cell_type": "code",
   "execution_count": null,
   "metadata": {},
   "outputs": [],
   "source": []
  }
 ],
 "metadata": {
  "kernelspec": {
   "display_name": "Python 3",
   "language": "python",
   "name": "python3"
  },
  "language_info": {
   "codemirror_mode": {
    "name": "ipython",
    "version": 3
   },
   "file_extension": ".py",
   "mimetype": "text/x-python",
   "name": "python",
   "nbconvert_exporter": "python",
   "pygments_lexer": "ipython3",
   "version": "3.11.6"
  }
 },
 "nbformat": 4,
 "nbformat_minor": 2
}
