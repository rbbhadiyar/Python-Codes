{
 "cells": [
  {
   "cell_type": "markdown",
   "metadata": {},
   "source": [
    "9. Given three points, find out whether they lie on the\n",
    "same straight line or not."
   ]
  },
  {
   "cell_type": "code",
   "execution_count": 1,
   "metadata": {},
   "outputs": [
    {
     "name": "stdout",
     "output_type": "stream",
     "text": [
      "(5.0, 9.0) (3.0, 7.0) (8.0, 5.0)\n",
      "Points do not lie on a straight line \n"
     ]
    }
   ],
   "source": [
    "#A=area; if area is 0 the the points lie in same line\n",
    "x1=float(input(\"Enter point x1 \"))\n",
    "y1=float(input(\"Enter point y1\"))\n",
    "x2=float(input(\"Enter point x2\"))\n",
    "y2=float(input(\"Enter point y2\"))\n",
    "x3=float(input(\"Enter point x3\"))\n",
    "y3=float(input(\"Enter point y3\"))\n",
    "print((x1,y1),(x2,y2),(x3,y3))\n",
    "A=(x1*(y2-y3)+x2*(y3-y1)+x3*(y1-y3))\n",
    "if A==0:\n",
    "    print(\"Points lie on a Straight Line \")\n",
    "\n",
    "else:\n",
    "    print(\"Points do not lie on a straight line \")\n",
    "    "
   ]
  },
  {
   "cell_type": "code",
   "execution_count": null,
   "metadata": {},
   "outputs": [],
   "source": []
  }
 ],
 "metadata": {
  "kernelspec": {
   "display_name": "Python 3",
   "language": "python",
   "name": "python3"
  },
  "language_info": {
   "codemirror_mode": {
    "name": "ipython",
    "version": 3
   },
   "file_extension": ".py",
   "mimetype": "text/x-python",
   "name": "python",
   "nbconvert_exporter": "python",
   "pygments_lexer": "ipython3",
   "version": "3.11.6"
  }
 },
 "nbformat": 4,
 "nbformat_minor": 2
}
