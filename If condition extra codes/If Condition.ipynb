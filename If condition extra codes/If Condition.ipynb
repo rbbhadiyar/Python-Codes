{
 "cells": [
  {
   "cell_type": "markdown",
   "metadata": {},
   "source": [
    "Q.- Find the appropriate weight of a person given the height and gender (input by user)."
   ]
  },
  {
   "cell_type": "code",
   "execution_count": 1,
   "metadata": {},
   "outputs": [
    {
     "name": "stdout",
     "output_type": "stream",
     "text": [
      "0\n",
      "10.0\n",
      "weight of the male is : 71.0\n"
     ]
    }
   ],
   "source": [
    "#Compute weight using robinson formula.\n",
    "a=int(input(\"gender= 0 for male and 1 for female\"))\n",
    "b=float(input(\"enter the height in inches\"))\n",
    "print (a)\n",
    "print(b)\n",
    "if a==0:\n",
    "    print(\"weight of the male is :\" ,52+1.9*(b))\n",
    "elif a==1:\n",
    "    print(\"weight of the female is :\", 49+1.6*(b))\n"
   ]
  },
  {
   "cell_type": "markdown",
   "metadata": {},
   "source": [
    "Q.- Find the greatest among three integers input by the user (show both methods.. with 'and' and without if).\n"
   ]
  },
  {
   "cell_type": "code",
   "execution_count": 2,
   "metadata": {},
   "outputs": [
    {
     "name": "stdout",
     "output_type": "stream",
     "text": [
      "c is greatest\n"
     ]
    }
   ],
   "source": [
    "#finding greatest among three with \"and\".\n",
    "a=2\n",
    "b=0\n",
    "c=11\n",
    "if a>b and a>c :\n",
    "    print(\"a is greatest \")\n",
    "elif b>c:\n",
    "    print(\"b is greatest\")\n",
    "else:\n",
    "    print (\"c is greatest\")"
   ]
  },
  {
   "cell_type": "code",
   "execution_count": 2,
   "metadata": {},
   "outputs": [
    {
     "name": "stdout",
     "output_type": "stream",
     "text": [
      "c is greatest\n"
     ]
    }
   ],
   "source": [
    "#finding greatest among three without  using \"and\".\n",
    "a=2\n",
    "b=0\n",
    "c=11\n",
    "if a>b:\n",
    "    if a>c:\n",
    "        print(\"a is greatest \")\n",
    "    else:\n",
    "        print(\"c is greatest\")\n",
    "else:\n",
    "    if b>c:\n",
    "        print(\"b is greatest\")\n",
    "    else:\n",
    "        print (\"c is greatest\")\n",
    "\n"
   ]
  },
  {
   "cell_type": "code",
   "execution_count": null,
   "metadata": {},
   "outputs": [],
   "source": []
  }
 ],
 "metadata": {
  "kernelspec": {
   "display_name": "Python 3",
   "language": "python",
   "name": "python3"
  },
  "language_info": {
   "codemirror_mode": {
    "name": "ipython",
    "version": 3
   },
   "file_extension": ".py",
   "mimetype": "text/x-python",
   "name": "python",
   "nbconvert_exporter": "python",
   "pygments_lexer": "ipython3",
   "version": "3.11.4"
  },
  "orig_nbformat": 4
 },
 "nbformat": 4,
 "nbformat_minor": 2
}
