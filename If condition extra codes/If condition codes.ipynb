{
 "cells": [
  {
   "cell_type": "markdown",
   "metadata": {},
   "source": [
    "Q.- Given two numbers a&b, find a/b (b could be zero)."
   ]
  },
  {
   "cell_type": "code",
   "execution_count": 20,
   "metadata": {},
   "outputs": [
    {
     "name": "stdout",
     "output_type": "stream",
     "text": [
      "2.4166666666666665\n"
     ]
    }
   ],
   "source": [
    "a=float(input(\"Enter the number\"))\n",
    "b=float(input(\"Enter the number\"))\n",
    "if b!=0:\n",
    "    c=(a/b)\n",
    "    print(c)\n",
    "else:\n",
    "    print(\"Division by zero is not defined\")"
   ]
  },
  {
   "cell_type": "markdown",
   "metadata": {},
   "source": [
    "Q.- Given a point in 2D space, find the quadrant in which it lies."
   ]
  },
  {
   "cell_type": "code",
   "execution_count": 1,
   "metadata": {},
   "outputs": [
    {
     "name": "stdout",
     "output_type": "stream",
     "text": [
      "Point is in First Quadrant\n"
     ]
    }
   ],
   "source": [
    "x1=float(input(\"Enter first point\"))\n",
    "y1=float(input(\"Enter second point\"))\n",
    "if x1==0 and y1==0:\n",
    "    print(\"Point is on Origin\")\n",
    "elif x1==0:\n",
    "    print(\"Point is on Y-Axis\")\n",
    "elif y1==0:\n",
    "    print(\"Point is on X-Axis\")\n",
    "else:\n",
    "    if x1>0:\n",
    "        if y1>0:\n",
    "            print(\"Point is in First Quadrant\")\n",
    "        elif y1<0:\n",
    "                print(\"Point is in fourth Quadrant\")\n",
    "    elif x1<0 and y1>0:\n",
    "        print(\"Point iS in second Quadrant\")\n",
    "    else:\n",
    "        print(\"Point is in Third Quadrant\")"
   ]
  },
  {
   "cell_type": "markdown",
   "metadata": {},
   "source": [
    "Q.- Given two points in 2D space, find the slope and y-intercept of the line joining them. Consider all cases."
   ]
  },
  {
   "cell_type": "code",
   "execution_count": 1,
   "metadata": {},
   "outputs": [
    {
     "name": "stdout",
     "output_type": "stream",
     "text": [
      "both the points in plain are: (5.0, 6.0) (8.0, 3.0)\n",
      "-1.0\n",
      "11.0\n"
     ]
    }
   ],
   "source": [
    "x1=float(input(\"Enter x1 coordinate\"))\n",
    "y1=float(input(\"Enter y1 coordinate\"))\n",
    "x2=float(input(\"Enter x1 coordinate\"))\n",
    "y2=float(input(\"Enter y2 coordinate\"))\n",
    "if x1 == x2:\n",
    "    print(\"The line is vertical; slope and intercept doesn't exist\")\n",
    "else:\n",
    "    slope = (y2-y1)/(x2-x1)\n",
    "    intercept = y1 - slope*x1\n",
    "    print(\"The Slope of the line is:\",slope)\n",
    "    print(\"The Intercept of the line is:\",intercept)\n",
    "\n",
    "if slope==0:\n",
    "    print(\"The Line is horizontal\")\n"
   ]
  },
  {
   "cell_type": "markdown",
   "metadata": {},
   "source": [
    "Q.- Given a temperature in Fahrenheit,convertit to celsius. If the temperature is below 10 degree celsius output cold,between 10 to 25 output pleasant,between 25 to 35output warm, and above 35 output hot."
   ]
  },
  {
   "cell_type": "code",
   "execution_count": 110,
   "metadata": {},
   "outputs": [
    {
     "name": "stdout",
     "output_type": "stream",
     "text": [
      "43.333333333333336\n",
      "hot\n"
     ]
    }
   ],
   "source": [
    "#F= Temperature in Fahrenheit; T= Temperature in celsius\n",
    "F=float(input(\"Enter the temperature in Fahrenheit\"))\n",
    "T=((5/9)*(F-32))\n",
    "print(T)\n",
    "if T<10:\n",
    "    print(\"cold\")\n",
    "elif 10<T<=25:\n",
    "    print(\"pleasant\")\n",
    "elif 25<T<=35:\n",
    "    print(\"warm\")\n",
    "elif T>35:\n",
    "    print(\"hot\")"
   ]
  },
  {
   "cell_type": "markdown",
   "metadata": {},
   "source": [
    "Q.-Given a quadratic equation with coefficients a, b and c, find the two solutions (may be real or complex). You should not take the square root of a negative number in your code."
   ]
  },
  {
   "cell_type": "code",
   "execution_count": 5,
   "metadata": {},
   "outputs": [
    {
     "name": "stdout",
     "output_type": "stream",
     "text": [
      " Consider  Quadratic equation  ax^2+bx+c=0\n",
      "quadratic equation is 10.0 x^2+ 10.0 x+ 10.0\n",
      "imaginary roots\n"
     ]
    }
   ],
   "source": [
    "#Roots of Quadratic Equation \n",
    "a=float(input(\"Enter coefficient of x^2\"))\n",
    "b=float(input(\"Enter coefficient of x\"))\n",
    "c=float(input(\"Enter constant\"))\n",
    "if a==0:\n",
    "    m=-c/b\n",
    "    print(\"linear equation with x=\", m)\n",
    "elif a!=0:\n",
    "    print(\"Quadratic equation is\",a,\"x^2+\",b,\"x+\",c)\n",
    "    t=b**2-4*a*c\n",
    "    x1=(-b+t**0.5)/2*a\n",
    "    x2=(-b-t**0.5)/2*a\n",
    "    if t>0:\n",
    "        print(\"Roots are real and unequal\", x1, \"and\",x2)\n",
    "    elif t==0:\n",
    "        print(\"Roots are equal\",x1)\n",
    "    else:\n",
    "        print(\"Imaginary roots\")"
   ]
  },
  {
   "cell_type": "markdown",
   "metadata": {},
   "source": [
    "Q.- Given three points, find out whether they lie on the same straight line or not."
   ]
  },
  {
   "cell_type": "code",
   "execution_count": 2,
   "metadata": {},
   "outputs": [
    {
     "name": "stdout",
     "output_type": "stream",
     "text": [
      "(5.0, 6.0) (9.0, 1.0) (2.0, 8.0)\n",
      "Points do not lie on a straight line \n"
     ]
    }
   ],
   "source": [
    "#A=area; if area is 0 the the points lie in same line\n",
    "x1=float(input(\"Enter point x1 \"))\n",
    "y1=float(input(\"Enter point y1\"))\n",
    "x2=float(input(\"Enter point x2\"))\n",
    "y2=float(input(\"Enter point y2\"))\n",
    "x3=float(input(\"Enter point x3\"))\n",
    "y3=float(input(\"Enter point y3\"))\n",
    "print((x1,y1),(x2,y2),(x3,y3))\n",
    "A=(x1*(y2-y3)+x2*(y3-y1)+x3*(y1-y3))\n",
    "if A==0:\n",
    "    print(\"Points lie on a Straight Line \")\n",
    "\n",
    "else:\n",
    "    print(\"Points do not lie on a straight line \")\n",
    "\n",
    "\n",
    "\n"
   ]
  },
  {
   "cell_type": "code",
   "execution_count": null,
   "metadata": {},
   "outputs": [],
   "source": []
  }
 ],
 "metadata": {
  "kernelspec": {
   "display_name": "Python 3",
   "language": "python",
   "name": "python3"
  },
  "language_info": {
   "codemirror_mode": {
    "name": "ipython",
    "version": 3
   },
   "file_extension": ".py",
   "mimetype": "text/x-python",
   "name": "python",
   "nbconvert_exporter": "python",
   "pygments_lexer": "ipython3",
   "version": "3.11.6"
  },
  "orig_nbformat": 4
 },
 "nbformat": 4,
 "nbformat_minor": 2
}
