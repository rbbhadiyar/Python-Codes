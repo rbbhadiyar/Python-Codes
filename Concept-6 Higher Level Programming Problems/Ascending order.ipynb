{
 "cells": [
  {
   "cell_type": "markdown",
   "metadata": {},
   "source": [
    "1. Given a list of numbers, sort it in ascending order."
   ]
  },
  {
   "cell_type": "code",
   "execution_count": 5,
   "metadata": {},
   "outputs": [
    {
     "name": "stdout",
     "output_type": "stream",
     "text": [
      "[11, 13, 17, 36, 39, 45, 49, 63, 71, 72, 82, 91]\n"
     ]
    }
   ],
   "source": [
    "#taking list of number as input\n",
    "lst=[39,36,71,17,82,45,49,63,72,13,11,91]\n",
    "for i in range(len(lst)):\n",
    "\n",
    "    #running two loops. firstly it will take the number and then it will compare it with others           \n",
    "    for j in range(len(lst)):          \n",
    "        if lst[i]<lst[j]:                      \n",
    "            num1=lst[i]\n",
    "            num2=lst[j]\n",
    "            lst[j]=num1\n",
    "            lst[i]=num2\n",
    "print(lst)"
   ]
  },
  {
   "cell_type": "code",
   "execution_count": null,
   "metadata": {},
   "outputs": [],
   "source": []
  }
 ],
 "metadata": {
  "kernelspec": {
   "display_name": "Python 3",
   "language": "python",
   "name": "python3"
  },
  "language_info": {
   "codemirror_mode": {
    "name": "ipython",
    "version": 3
   },
   "file_extension": ".py",
   "mimetype": "text/x-python",
   "name": "python",
   "nbconvert_exporter": "python",
   "pygments_lexer": "ipython3",
   "version": "3.11.6"
  }
 },
 "nbformat": 4,
 "nbformat_minor": 2
}
