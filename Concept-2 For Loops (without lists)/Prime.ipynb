{
 "cells": [
  {
   "cell_type": "markdown",
   "metadata": {},
   "source": [
    "4. Given a positive integer, find out if it’s prime or not."
   ]
  },
  {
   "cell_type": "code",
   "execution_count": 6,
   "metadata": {},
   "outputs": [
    {
     "name": "stdout",
     "output_type": "stream",
     "text": [
      "Given number is  prime\n"
     ]
    }
   ],
   "source": [
    "#we will take a as positive integer\n",
    "a=17\n",
    "\n",
    "#taking the root of given integer and converting the value of root of integer into integer\n",
    "root_num=int(a**0.5)\n",
    "\n",
    "#initiating a variable \n",
    "count1=0\n",
    "\n",
    "#we will run it for the numbers in range(2,root_num+1)\n",
    "for i in range(2,root_num+1):\n",
    "    #dividing given number(a) by numbers in range(2,root_num+1) and checking if remainder is zero or not\n",
    "    if a%i==0:\n",
    "        #if 0 then increase the value of count by 1\n",
    "        count1=count1+1\n",
    "\n",
    "# check if count1 eqaul to zero\n",
    "if count1==0:\n",
    "    #if count1==0 implies that given number(a) is not completely divisible by any number in range (2,root_num+1), so it is prime \n",
    "    print(\"Given number is  prime\")\n",
    "\n",
    "else:\n",
    "    #if count1 not equal to zero then it is not a prime number\n",
    "    print(\"Given number is not a prime number\")"
   ]
  },
  {
   "cell_type": "code",
   "execution_count": null,
   "metadata": {},
   "outputs": [],
   "source": []
  }
 ],
 "metadata": {
  "kernelspec": {
   "display_name": "Python 3",
   "language": "python",
   "name": "python3"
  },
  "language_info": {
   "codemirror_mode": {
    "name": "ipython",
    "version": 3
   },
   "file_extension": ".py",
   "mimetype": "text/x-python",
   "name": "python",
   "nbconvert_exporter": "python",
   "pygments_lexer": "ipython3",
   "version": "3.11.6"
  }
 },
 "nbformat": 4,
 "nbformat_minor": 2
}
