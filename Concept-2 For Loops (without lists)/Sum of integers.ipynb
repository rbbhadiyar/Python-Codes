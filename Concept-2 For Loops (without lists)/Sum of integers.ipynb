{
 "cells": [
  {
   "cell_type": "markdown",
   "metadata": {},
   "source": [
    "2. Given a positive integer, find out the sum of all\n",
    "integers from 1 up to this number."
   ]
  },
  {
   "cell_type": "code",
   "execution_count": 1,
   "metadata": {},
   "outputs": [
    {
     "name": "stdout",
     "output_type": "stream",
     "text": [
      "Sum of integers from 1 upto the given integer is: 1275\n"
     ]
    }
   ],
   "source": [
    "#Finding sum of integers from 1 upto the given integer\n",
    "# a = given positive integer\n",
    "a=50\n",
    "#initiating the sum variable\n",
    "sum1=0\n",
    "#iterating the integers in range(1,a+1)\n",
    "for i in range(1,a+1):\n",
    "    \n",
    "    #adding i in sum1 and updating it\n",
    "    sum1+=i\n",
    "print(\"Sum of integers from 1 upto the given integer is:\",sum1)"
   ]
  },
  {
   "cell_type": "code",
   "execution_count": null,
   "metadata": {},
   "outputs": [],
   "source": []
  }
 ],
 "metadata": {
  "kernelspec": {
   "display_name": "Python 3",
   "language": "python",
   "name": "python3"
  },
  "language_info": {
   "codemirror_mode": {
    "name": "ipython",
    "version": 3
   },
   "file_extension": ".py",
   "mimetype": "text/x-python",
   "name": "python",
   "nbconvert_exporter": "python",
   "pygments_lexer": "ipython3",
   "version": "3.11.6"
  }
 },
 "nbformat": 4,
 "nbformat_minor": 2
}
