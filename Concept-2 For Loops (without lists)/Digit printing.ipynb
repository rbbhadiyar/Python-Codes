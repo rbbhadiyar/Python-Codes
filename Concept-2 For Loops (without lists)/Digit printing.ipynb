{
 "cells": [
  {
   "cell_type": "markdown",
   "metadata": {},
   "source": [
    "9. Given a positive integer, print each of its digits\n",
    "separately without converting the number into a\n",
    "string."
   ]
  },
  {
   "cell_type": "code",
   "execution_count": 7,
   "metadata": {},
   "outputs": [
    {
     "name": "stdout",
     "output_type": "stream",
     "text": [
      "[4, 3, 7, 8]\n"
     ]
    }
   ],
   "source": [
    "#print a numbers digit separately without converting into string\n",
    "#a = +ve integer taken as input\n",
    "a=4378\n",
    "\n",
    "#creating a empty list\n",
    "lst = []\n",
    "\n",
    "#iterating the number in range given integer(a)\n",
    "for i in range(a):\n",
    "\n",
    "    #checking for 0\n",
    "    if a!=0:\n",
    "        #if \"a\" not equal to zero then update the value of remainder as the remainder when \"a\" is divided by 10\n",
    "        remainder=a%10\n",
    "        #removing the last digit from the integer and updating  the value of \"a\"\n",
    "        a=a//10\n",
    "        lst.append(remainder)\n",
    "\n",
    "    else:\n",
    "        #if interger is zero then break the loop\n",
    "        break\n",
    "    x=lst[::-1]\n",
    "print(x)\n"
   ]
  },
  {
   "cell_type": "code",
   "execution_count": null,
   "metadata": {},
   "outputs": [],
   "source": []
  }
 ],
 "metadata": {
  "kernelspec": {
   "display_name": "Python 3",
   "language": "python",
   "name": "python3"
  },
  "language_info": {
   "codemirror_mode": {
    "name": "ipython",
    "version": 3
   },
   "file_extension": ".py",
   "mimetype": "text/x-python",
   "name": "python",
   "nbconvert_exporter": "python",
   "pygments_lexer": "ipython3",
   "version": "3.11.6"
  }
 },
 "nbformat": 4,
 "nbformat_minor": 2
}
