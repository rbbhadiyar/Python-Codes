{
 "cells": [
  {
   "cell_type": "markdown",
   "metadata": {},
   "source": [
    "3. Given a positive integer, find out its factorial."
   ]
  },
  {
   "cell_type": "code",
   "execution_count": 2,
   "metadata": {},
   "outputs": [
    {
     "name": "stdout",
     "output_type": "stream",
     "text": [
      "Factorial of given number(a) is: 120\n"
     ]
    }
   ],
   "source": [
    "#finding factorial\n",
    "#a=Given positive integer\n",
    "a=5\n",
    "#initiating variable fact\n",
    "fact=1\n",
    "\n",
    "#iterating the integers in range(2,a+1)\n",
    "#we are iterating the integers from two as number multiplied one is the number itself\n",
    "for i in range(2,a+1):\n",
    "\n",
    "    #multiplying number in range with fact and updating the value of it\n",
    "    fact = fact*i\n",
    "    \n",
    "print(\"Factorial of given number(a) is:\",fact)\n"
   ]
  },
  {
   "cell_type": "code",
   "execution_count": null,
   "metadata": {},
   "outputs": [],
   "source": []
  }
 ],
 "metadata": {
  "kernelspec": {
   "display_name": "Python 3",
   "language": "python",
   "name": "python3"
  },
  "language_info": {
   "codemirror_mode": {
    "name": "ipython",
    "version": 3
   },
   "file_extension": ".py",
   "mimetype": "text/x-python",
   "name": "python",
   "nbconvert_exporter": "python",
   "pygments_lexer": "ipython3",
   "version": "3.11.6"
  }
 },
 "nbformat": 4,
 "nbformat_minor": 2
}
