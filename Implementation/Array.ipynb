{
 "cells": [
  {
   "cell_type": "code",
   "execution_count": null,
   "metadata": {},
   "outputs": [],
   "source": [
    "class Array:\n",
    "    def _init_(self):  \n",
    "        self.array = []\n",
    "        self.size = 0\n",
    "\n",
    "    def _len_(self):  \n",
    "        return self.size\n",
    "\n",
    "    def add_element(self, data):\n",
    "        self.array.append(data)\n",
    "        self.size += 1\n",
    "        \n",
    "    def find_min(self):\n",
    "        if self.size == 0:\n",
    "            print(\"array is empty\")\n",
    "        min_value = self.array[0]\n",
    "        for i in self.array:\n",
    "            if i < min_value:\n",
    "                min_value = i\n",
    "        return min_value\n",
    "\n",
    "    def find_max(self):\n",
    "        if self.size == 0:\n",
    "            print(\"array is empty\")\n",
    "        max_value = self.array[0]\n",
    "        for i in self.array:\n",
    "            if i > max_value:\n",
    "                max_value = i\n",
    "        return max_value"
   ]
  }
 ],
 "metadata": {
  "language_info": {
   "name": "python"
  }
 },
 "nbformat": 4,
 "nbformat_minor": 2
}
