{
 "cells": [
  {
   "cell_type": "code",
   "execution_count": 1,
   "metadata": {},
   "outputs": [],
   "source": [
    "class SinglyLinkedList:\n",
    "    class Node:\n",
    "        def __init__(self, element):\n",
    "            self.element = element\n",
    "            self.next = None\n",
    "\n",
    "    def __init__(self):\n",
    "        self.head = None \n",
    "        self.tail = None  \n",
    "        self.size = 0  \n",
    "\n",
    "    def add_first_element (self, e):\n",
    "        \"\"\"Add an element to the beginning of the list.\"\"\"\n",
    "        new_ele = self.Node(e)\n",
    "        new_ele.next = self.head\n",
    "        self.head = new_ele\n",
    "        if self.size == 0:\n",
    "            self.tail = new_ele\n",
    "        self.size += 1\n",
    "\n",
    "    def add_last_ele(self, e):\n",
    "        \"\"\"Add an element to the end of the list.\"\"\"\n",
    "        new_ele = self.Node(e)\n",
    "        if self.size == 0:\n",
    "            self.head = new_ele\n",
    "        else:\n",
    "            self.tail.next = new_ele\n",
    "        self.tail = new_ele\n",
    "        self.size += 1\n",
    "\n",
    "    def remove_first_ele(self):\n",
    "        \"\"\"Remove the first element from the list.\"\"\"\n",
    "        if self.head is None:\n",
    "            raise ValueError(\"The list is empty\")\n",
    "        if self.size == 1:\n",
    "            self.tail = None\n",
    "        self.head = self.head.next\n",
    "        self.size -= 1"
   ]
  }
 ],
 "metadata": {
  "kernelspec": {
   "display_name": "Python 3",
   "language": "python",
   "name": "python3"
  },
  "language_info": {
   "codemirror_mode": {
    "name": "ipython",
    "version": 3
   },
   "file_extension": ".py",
   "mimetype": "text/x-python",
   "name": "python",
   "nbconvert_exporter": "python",
   "pygments_lexer": "ipython3",
   "version": "3.11.9"
  }
 },
 "nbformat": 4,
 "nbformat_minor": 2
}
