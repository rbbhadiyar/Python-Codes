{
 "cells": [
  {
   "cell_type": "code",
   "execution_count": null,
   "metadata": {},
   "outputs": [],
   "source": [
    "class Node:\n",
    "    def __init__(self, data):\n",
    "        self.data = data\n",
    "        self.next = None\n",
    "\n",
    "class CircularLinkedList:\n",
    "    def __init__(self):\n",
    "        self.head = None\n",
    "\n",
    "    def add_last(self, data):\n",
    "        new_node = Node(data)\n",
    "        if not self.head:\n",
    "            self.head = new_node\n",
    "            new_node.next = new_node  # Circular link\n",
    "        else:\n",
    "            curr = self.head\n",
    "            while curr.next != self.head:\n",
    "                curr = curr.next\n",
    "            curr.next = new_node\n",
    "            new_node.next = self.head\n",
    "\n",
    "    def add_first(self, data):\n",
    "        new_node = Node(data)\n",
    "        if not self.head:\n",
    "            self.head = new_node\n",
    "            new_node.next = new_node\n",
    "        else:\n",
    "            curr = self.head\n",
    "            while curr.next != self.head:\n",
    "                curr = curr.next\n",
    "            new_node.next = self.head\n",
    "            curr.next = new_node\n",
    "            self.head = new_node\n",
    "\n",
    "    def print_list(self):\n",
    "        if not self.head:\n",
    "            return\n",
    "        curr = self.head\n",
    "        while True:\n",
    "            print(curr.data)\n",
    "            curr = curr.next\n",
    "            if curr == self.head:\n",
    "                break\n",
    "\n"
   ]
  }
 ],
 "metadata": {
  "language_info": {
   "name": "python"
  }
 },
 "nbformat": 4,
 "nbformat_minor": 2
}
