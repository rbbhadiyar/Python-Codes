{
 "cells": [
  {
   "cell_type": "markdown",
   "metadata": {},
   "source": [
    "6. Given a list of numbers, find out how many times\n",
    "each number occurs in the list."
   ]
  },
  {
   "cell_type": "code",
   "execution_count": 4,
   "metadata": {},
   "outputs": [
    {
     "name": "stdout",
     "output_type": "stream",
     "text": [
      "5 occurs in list: 2 times.\n",
      "3 occurs in list: 4 times.\n",
      "4 occurs in list: 3 times.\n",
      "6 occurs in list: 1 times.\n",
      "8 occurs in list: 3 times.\n",
      "7 occurs in list: 2 times.\n",
      "9 occurs in list: 2 times.\n"
     ]
    }
   ],
   "source": [
    "#Taking list of numbers as input\n",
    "lst = [5,3,4,6,8,7,9,7,8,4,3,3,8,9,4,3,5]\n",
    "\n",
    "#creating empty list to store unique numbers\n",
    "lst_new=[]\n",
    "\n",
    "#iterating over each numbers of list\n",
    "for i in lst:\n",
    "\n",
    "    #appending all unique numbers in the empty list.\n",
    "    if i not in lst_new:\n",
    "        lst_new.append(i)\n",
    "for j in lst_new:\n",
    "    count = 0\n",
    "    \n",
    "    #comparing numbers in both the list and counting its occurence.\n",
    "    for k in lst:\n",
    "        if j == k:\n",
    "            count = count+1\n",
    "    print(j,\"occurs in list:\",count, \"times.\")"
   ]
  },
  {
   "cell_type": "code",
   "execution_count": null,
   "metadata": {},
   "outputs": [],
   "source": []
  }
 ],
 "metadata": {
  "kernelspec": {
   "display_name": "Python 3",
   "language": "python",
   "name": "python3"
  },
  "language_info": {
   "codemirror_mode": {
    "name": "ipython",
    "version": 3
   },
   "file_extension": ".py",
   "mimetype": "text/x-python",
   "name": "python",
   "nbconvert_exporter": "python",
   "pygments_lexer": "ipython3",
   "version": "3.11.6"
  }
 },
 "nbformat": 4,
 "nbformat_minor": 2
}
