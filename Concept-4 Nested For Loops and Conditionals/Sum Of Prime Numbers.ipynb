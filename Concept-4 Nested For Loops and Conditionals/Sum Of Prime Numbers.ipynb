{
 "cells": [
  {
   "cell_type": "markdown",
   "metadata": {},
   "source": [
    "5. Given a positive integers, find out the sum of all\n",
    "prime numbers from 1 up to this number."
   ]
  },
  {
   "cell_type": "code",
   "execution_count": 3,
   "metadata": {},
   "outputs": [
    {
     "name": "stdout",
     "output_type": "stream",
     "text": [
      "All Prime numbers upto given number are: [2, 3, 5, 7, 11, 13, 17, 19, 23]\n",
      "Sum of all Prime numbers upto given number is: 100\n"
     ]
    }
   ],
   "source": [
    "#x = given positive integer\n",
    "x=23\n",
    "\n",
    "#creating a empltylist to store the prime numbers\n",
    "lst_prime=[]\n",
    "for i in range(1,x):\n",
    "    a = 0\n",
    "    i = i+1\n",
    "    x = int(i**(0.5))\n",
    "\n",
    "    #we will run the loop from 2 upto the given number as the smallest prime number is 2\n",
    "    for j in range(2,(x+1)):\n",
    "        #now we will check whether given number is divisible by another number or not.                                      \n",
    "        if i%j==0:                                      \n",
    "            a=a+1                                       \n",
    "    if a==0:\n",
    "        lst_prime.append(i)\n",
    "print('All Prime numbers upto given number are:',lst_prime)\n",
    "\n",
    "#assigning a variable\n",
    "sum_prime=0\n",
    "\n",
    "#iterating over all numbers of prime list\n",
    "for k in lst_prime:\n",
    "    sum_prime=sum_prime+k\n",
    "print('Sum of all Prime numbers upto given number is:',sum_prime )"
   ]
  },
  {
   "cell_type": "code",
   "execution_count": null,
   "metadata": {},
   "outputs": [],
   "source": []
  }
 ],
 "metadata": {
  "kernelspec": {
   "display_name": "Python 3",
   "language": "python",
   "name": "python3"
  },
  "language_info": {
   "codemirror_mode": {
    "name": "ipython",
    "version": 3
   },
   "file_extension": ".py",
   "mimetype": "text/x-python",
   "name": "python",
   "nbconvert_exporter": "python",
   "pygments_lexer": "ipython3",
   "version": "3.11.6"
  }
 },
 "nbformat": 4,
 "nbformat_minor": 2
}
