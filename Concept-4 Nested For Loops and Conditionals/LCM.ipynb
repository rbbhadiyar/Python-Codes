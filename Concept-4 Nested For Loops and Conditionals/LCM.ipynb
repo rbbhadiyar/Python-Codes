{
 "cells": [
  {
   "cell_type": "markdown",
   "metadata": {},
   "source": [
    "2. Given two numbers, find its Least Common Multiple\n",
    "(LCM)."
   ]
  },
  {
   "cell_type": "code",
   "execution_count": 2,
   "metadata": {},
   "outputs": [
    {
     "name": "stdout",
     "output_type": "stream",
     "text": [
      "LCM is 15\n"
     ]
    }
   ],
   "source": [
    "#taking two numbers(num1, num2) as a input from user.\n",
    "num1=int(input(\"Enter First Number\"))\n",
    "num2=int(input(\"Enter Second Number\"))\n",
    "\n",
    "#First we will ensure that none of the number should be zero\n",
    "if num1 != 0 and num2 != 0:\n",
    "\n",
    "    for i in range(max(num1,num2),((num1*num2)+1)):\n",
    "\n",
    "        #now we will find the number from the given range which is completely divisible by number\n",
    "        if i%num1==0 and i%num2==0:\n",
    "            \n",
    "            LCM1=i\n",
    "            #we will break the loop when we get our first number because that will be the least common multiple\n",
    "            break\n",
    "else:\n",
    "    LCM1 = 0                               \n",
    "print(\"LCM is\",LCM1)"
   ]
  },
  {
   "cell_type": "code",
   "execution_count": null,
   "metadata": {},
   "outputs": [],
   "source": []
  }
 ],
 "metadata": {
  "kernelspec": {
   "display_name": "Python 3",
   "language": "python",
   "name": "python3"
  },
  "language_info": {
   "codemirror_mode": {
    "name": "ipython",
    "version": 3
   },
   "file_extension": ".py",
   "mimetype": "text/x-python",
   "name": "python",
   "nbconvert_exporter": "python",
   "pygments_lexer": "ipython3",
   "version": "3.11.6"
  }
 },
 "nbformat": 4,
 "nbformat_minor": 2
}
