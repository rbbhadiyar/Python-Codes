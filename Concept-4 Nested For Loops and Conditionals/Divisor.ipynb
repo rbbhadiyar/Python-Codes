{
 "cells": [
  {
   "cell_type": "markdown",
   "metadata": {},
   "source": [
    "3. Given two numbers, find its Greatest Common\n",
    "Divisor (Divisor)."
   ]
  },
  {
   "cell_type": "code",
   "execution_count": 2,
   "metadata": {},
   "outputs": [
    {
     "name": "stdout",
     "output_type": "stream",
     "text": [
      "Both or , Greatest Common Divisor is Not Defined.\n"
     ]
    }
   ],
   "source": [
    "#x and y are the given numbers\n",
    "x=12\n",
    "y=9\n",
    "\n",
    "#First we will ensure that none of the number should be zero\n",
    "if x != 0 and y != 0:\n",
    "\n",
    "    #we will run the for loop from 1 to minimum of x and y\n",
    "    for i in range(1,min(x,y)):\n",
    "\n",
    "        #Number which divides both the given number simultaneously is Greatest Common Divisor\n",
    "        if x%i==0 and y%i==0:\n",
    "            hcf=i\n",
    "    print(\"Greatest common divisor is \", hcf)\n",
    "else:\n",
    "    print('Both or any of the number is zero, Greatest Common Divisor is Not Defined.')"
   ]
  },
  {
   "cell_type": "code",
   "execution_count": null,
   "metadata": {},
   "outputs": [],
   "source": []
  }
 ],
 "metadata": {
  "kernelspec": {
   "display_name": "Python 3",
   "language": "python",
   "name": "python3"
  },
  "language_info": {
   "codemirror_mode": {
    "name": "ipython",
    "version": 3
   },
   "file_extension": ".py",
   "mimetype": "text/x-python",
   "name": "python",
   "nbconvert_exporter": "python",
   "pygments_lexer": "ipython3",
   "version": "3.11.6"
  }
 },
 "nbformat": 4,
 "nbformat_minor": 2
}
