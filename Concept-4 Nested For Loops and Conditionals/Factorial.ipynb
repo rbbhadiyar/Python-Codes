{
 "cells": [
  {
   "cell_type": "markdown",
   "metadata": {},
   "source": [
    "1. Given a list of positive integers, find the factorial of\n",
    "all the numbers."
   ]
  },
  {
   "cell_type": "code",
   "execution_count": 10,
   "metadata": {},
   "outputs": [
    {
     "name": "stdout",
     "output_type": "stream",
     "text": [
      "Factorial of 5 is: 120\n",
      "Factorial of 3 is: 6\n",
      "Factorial of 4 is: 24\n",
      "Factorial of 7 is: 5040\n"
     ]
    }
   ],
   "source": [
    "#Taking list (lst) as input from user\n",
    "lst = [5,3,4,7]\n",
    "\n",
    "#iterating through each element of list\n",
    "for num in lst:\n",
    "\n",
    "    #initiating a variable(fact) and reseting its value each time after running the loop\n",
    "    fact = 1\n",
    "\n",
    "    #iterating through each integers coming in the range of number in list\n",
    "    for i in range(1,num+1):\n",
    "\n",
    "        #multiplying with all numbers coming in range num and updating the value of fact\n",
    "        fact = fact*i\n",
    "    print(\"Factorial of\", num ,\"is:\",fact)\n",
    "\n"
   ]
  },
  {
   "cell_type": "code",
   "execution_count": null,
   "metadata": {},
   "outputs": [],
   "source": []
  }
 ],
 "metadata": {
  "kernelspec": {
   "display_name": "Python 3",
   "language": "python",
   "name": "python3"
  },
  "language_info": {
   "codemirror_mode": {
    "name": "ipython",
    "version": 3
   },
   "file_extension": ".py",
   "mimetype": "text/x-python",
   "name": "python",
   "nbconvert_exporter": "python",
   "pygments_lexer": "ipython3",
   "version": "3.11.6"
  }
 },
 "nbformat": 4,
 "nbformat_minor": 2
}
