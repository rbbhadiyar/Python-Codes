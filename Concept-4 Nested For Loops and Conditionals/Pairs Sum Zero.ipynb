{
 "cells": [
  {
   "cell_type": "markdown",
   "metadata": {},
   "source": [
    "7. Given a list of integers, find all pairs of integers in the\n",
    "list whose sum is zero."
   ]
  },
  {
   "cell_type": "code",
   "execution_count": 1,
   "metadata": {},
   "outputs": [
    {
     "name": "stdout",
     "output_type": "stream",
     "text": [
      "Integer combination with sum zero: [(3, -3), (7, -7), (6, -6), (4, -4), (0, 0)]\n"
     ]
    }
   ],
   "source": [
    "lst=[3,7,6,7,4,-3,-7,-6,-7,-4,0,0]\n",
    "lst_new=[]\n",
    "for i in lst:\n",
    "    for j in lst:\n",
    "        if i + j == 0:\n",
    "            if (i,j) not in lst_new:\n",
    "                \n",
    "            #To avoid the opposite order pairs sum which also gives zero\n",
    "                if (j,i) not in lst_new:\n",
    "                    lst_new.append((i, j))\n",
    "print(\"Integer combination with sum zero:\",lst_new)"
   ]
  },
  {
   "cell_type": "code",
   "execution_count": null,
   "metadata": {},
   "outputs": [],
   "source": []
  }
 ],
 "metadata": {
  "kernelspec": {
   "display_name": "Python 3",
   "language": "python",
   "name": "python3"
  },
  "language_info": {
   "codemirror_mode": {
    "name": "ipython",
    "version": 3
   },
   "file_extension": ".py",
   "mimetype": "text/x-python",
   "name": "python",
   "nbconvert_exporter": "python",
   "pygments_lexer": "ipython3",
   "version": "3.11.6"
  }
 },
 "nbformat": 4,
 "nbformat_minor": 2
}
