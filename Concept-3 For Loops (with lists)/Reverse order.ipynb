{
 "cells": [
  {
   "cell_type": "markdown",
   "metadata": {},
   "source": [
    "8. Given a list of numbers, create another list in reverse\n",
    "order."
   ]
  },
  {
   "cell_type": "code",
   "execution_count": 2,
   "metadata": {},
   "outputs": [
    {
     "name": "stdout",
     "output_type": "stream",
     "text": [
      "[26, 15, 13, 18, 8, 4, 2, 3, 9, 6]\n"
     ]
    }
   ],
   "source": [
    "#here we will create the reverse of given list\n",
    "#lst = given a list of numbers\n",
    "lst= [6,9,3,2,4,8,18,13,15,26,]\n",
    "\n",
    "#creating a new list for storing reverse order data\n",
    "rev_lst=[]\n",
    "\n",
    "#iterating through each element of list\n",
    "for i in lst:\n",
    "    # appending the current element to the beginning of the reverse list\n",
    "    rev_lst=[i]+rev_lst\n",
    "print(rev_lst)"
   ]
  },
  {
   "cell_type": "code",
   "execution_count": null,
   "metadata": {},
   "outputs": [],
   "source": []
  }
 ],
 "metadata": {
  "kernelspec": {
   "display_name": "Python 3",
   "language": "python",
   "name": "python3"
  },
  "language_info": {
   "codemirror_mode": {
    "name": "ipython",
    "version": 3
   },
   "file_extension": ".py",
   "mimetype": "text/x-python",
   "name": "python",
   "nbconvert_exporter": "python",
   "pygments_lexer": "ipython3",
   "version": "3.11.6"
  }
 },
 "nbformat": 4,
 "nbformat_minor": 2
}
