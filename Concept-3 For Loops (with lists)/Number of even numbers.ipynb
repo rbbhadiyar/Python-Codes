{
 "cells": [
  {
   "cell_type": "markdown",
   "metadata": {},
   "source": [
    "7. Given a list of numbers, find out how many even\n",
    "numbers it has."
   ]
  },
  {
   "cell_type": "code",
   "execution_count": 6,
   "metadata": {},
   "outputs": [
    {
     "name": "stdout",
     "output_type": "stream",
     "text": [
      "Number of even numbers in given list is: 6\n"
     ]
    }
   ],
   "source": [
    "#here we will find number of even numbers in given list\n",
    "#lst = given a list of numbers\n",
    "lst= [6,9,3,2,4,8,18,13,15,26,]\n",
    "\n",
    "#initiating a variable\n",
    "count_even=0\n",
    "\n",
    "#iterating through each element of list\n",
    "for i in lst:\n",
    "\n",
    "    #if number in the list divided by 2 gives the remainder zero then that number is even\n",
    "    if i%2==0:\n",
    "    \n",
    "    #increasing the value of count-even variable by 1 each time when for loop completes satisfying if condition\n",
    "        count_even+=1\n",
    "print(\"Number of even numbers in given list is:\",count_even)"
   ]
  },
  {
   "cell_type": "code",
   "execution_count": null,
   "metadata": {},
   "outputs": [],
   "source": []
  }
 ],
 "metadata": {
  "kernelspec": {
   "display_name": "Python 3",
   "language": "python",
   "name": "python3"
  },
  "language_info": {
   "codemirror_mode": {
    "name": "ipython",
    "version": 3
   },
   "file_extension": ".py",
   "mimetype": "text/x-python",
   "name": "python",
   "nbconvert_exporter": "python",
   "pygments_lexer": "ipython3",
   "version": "3.11.6"
  }
 },
 "nbformat": 4,
 "nbformat_minor": 2
}
