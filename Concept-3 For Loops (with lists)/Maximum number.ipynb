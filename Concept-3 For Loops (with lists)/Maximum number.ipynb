{
 "cells": [
  {
   "cell_type": "markdown",
   "metadata": {},
   "source": [
    "9. Given a list of numbers, find out the maximum\n",
    "number."
   ]
  },
  {
   "cell_type": "code",
   "execution_count": 12,
   "metadata": {},
   "outputs": [
    {
     "ename": "TypeError",
     "evalue": "'>' not supported between instances of 'int' and 'list'",
     "output_type": "error",
     "traceback": [
      "\u001b[1;31m---------------------------------------------------------------------------\u001b[0m",
      "\u001b[1;31mTypeError\u001b[0m                                 Traceback (most recent call last)",
      "\u001b[1;32mc:\\Users\\rbbha\\OneDrive\\Desktop\\Python files\\Github Uploads\\Concept-3 For Loops (with lists)\\Maximum number.ipynb Cell 2\u001b[0m line \u001b[0;36m8\n\u001b[0;32m      <a href='vscode-notebook-cell:/c%3A/Users/rbbha/OneDrive/Desktop/Python%20files/Github%20Uploads/Concept-3%20For%20Loops%20%28with%20lists%29/Maximum%20number.ipynb#W0sZmlsZQ%3D%3D?line=5'>6</a>\u001b[0m max_num\u001b[39m=\u001b[39m[\u001b[39m0\u001b[39m]\n\u001b[0;32m      <a href='vscode-notebook-cell:/c%3A/Users/rbbha/OneDrive/Desktop/Python%20files/Github%20Uploads/Concept-3%20For%20Loops%20%28with%20lists%29/Maximum%20number.ipynb#W0sZmlsZQ%3D%3D?line=6'>7</a>\u001b[0m \u001b[39mfor\u001b[39;00m num \u001b[39min\u001b[39;00m lst:\n\u001b[1;32m----> <a href='vscode-notebook-cell:/c%3A/Users/rbbha/OneDrive/Desktop/Python%20files/Github%20Uploads/Concept-3%20For%20Loops%20%28with%20lists%29/Maximum%20number.ipynb#W0sZmlsZQ%3D%3D?line=7'>8</a>\u001b[0m     \u001b[39mif\u001b[39;00m num\u001b[39m>\u001b[39;49mmax_num:\n\u001b[0;32m      <a href='vscode-notebook-cell:/c%3A/Users/rbbha/OneDrive/Desktop/Python%20files/Github%20Uploads/Concept-3%20For%20Loops%20%28with%20lists%29/Maximum%20number.ipynb#W0sZmlsZQ%3D%3D?line=8'>9</a>\u001b[0m         max_num\u001b[39m=\u001b[39mnum\n\u001b[0;32m     <a href='vscode-notebook-cell:/c%3A/Users/rbbha/OneDrive/Desktop/Python%20files/Github%20Uploads/Concept-3%20For%20Loops%20%28with%20lists%29/Maximum%20number.ipynb#W0sZmlsZQ%3D%3D?line=9'>10</a>\u001b[0m \u001b[39mprint\u001b[39m(\u001b[39m\"\u001b[39m\u001b[39mMaximum number of the given list is:\u001b[39m\u001b[39m\"\u001b[39m,max_num)\n",
      "\u001b[1;31mTypeError\u001b[0m: '>' not supported between instances of 'int' and 'list'"
     ]
    }
   ],
   "source": [
    "#here we will find the maximum number of the given list\n",
    "#lst = given a list of numbers\n",
    "lst=[5,7,9,11]\n",
    "\n",
    "#taking first number of list as maximum\n",
    "max_num=[0]\n",
    "for num in lst:\n",
    "    if num>max_num:\n",
    "        max_num=num\n",
    "print(\"Maximum number of the given list is:\",max_num)"
   ]
  },
  {
   "cell_type": "code",
   "execution_count": 9,
   "metadata": {},
   "outputs": [
    {
     "name": "stdout",
     "output_type": "stream",
     "text": [
      "maximun number in the list is : 9\n"
     ]
    }
   ],
   "source": [
    "#taking a random list\n",
    "list_m=[1,2,3,4,5,6,7,8,9]\n",
    "\n",
    "#initializing a variable whose value will be changed if it is not the max of the list\n",
    "maxi=list_m[0]\n",
    "\n",
    "#iterating through each element of the list\n",
    "for num in list_m:\n",
    "    #checking which element in the list is greater then the initailised variable(maxi)\n",
    "    if num>maxi:\n",
    "        #if element is greater the update the value of maxi with the greater num\n",
    "        maxi=num\n",
    "\n",
    "print(\"maximun number in the list is :\", maxi)"
   ]
  },
  {
   "cell_type": "code",
   "execution_count": null,
   "metadata": {},
   "outputs": [],
   "source": []
  }
 ],
 "metadata": {
  "kernelspec": {
   "display_name": "Python 3",
   "language": "python",
   "name": "python3"
  },
  "language_info": {
   "codemirror_mode": {
    "name": "ipython",
    "version": 3
   },
   "file_extension": ".py",
   "mimetype": "text/x-python",
   "name": "python",
   "nbconvert_exporter": "python",
   "pygments_lexer": "ipython3",
   "version": "3.11.6"
  }
 },
 "nbformat": 4,
 "nbformat_minor": 2
}
