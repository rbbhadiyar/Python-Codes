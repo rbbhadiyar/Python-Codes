{
 "cells": [
  {
   "cell_type": "markdown",
   "metadata": {},
   "source": [
    "Given a list of numbers, find all the even numbers in\n",
    "it."
   ]
  },
  {
   "cell_type": "code",
   "execution_count": 13,
   "metadata": {},
   "outputs": [
    {
     "name": "stdout",
     "output_type": "stream",
     "text": [
      "Even numbers in the list are:\n",
      "6\n",
      "2\n",
      "4\n",
      "8\n",
      "18\n",
      "26\n"
     ]
    }
   ],
   "source": [
    "#here we will find even numbers given in the list\n",
    "#lst = given a list of numbers\n",
    "lst= [6,9,3,2,4,8,18,13,15,26]\n",
    "print(\"Even numbers in the list are:\")\n",
    "\n",
    "#iterating through each element of list\n",
    "for i in lst:\n",
    "    \n",
    "    #if number in the list divided by 2 gives the remainder zero then that number is even\n",
    "    if i%2==0:\n",
    "        print(i)\n",
    "    "
   ]
  },
  {
   "cell_type": "code",
   "execution_count": null,
   "metadata": {},
   "outputs": [],
   "source": []
  }
 ],
 "metadata": {
  "kernelspec": {
   "display_name": "Python 3",
   "language": "python",
   "name": "python3"
  },
  "language_info": {
   "codemirror_mode": {
    "name": "ipython",
    "version": 3
   },
   "file_extension": ".py",
   "mimetype": "text/x-python",
   "name": "python",
   "nbconvert_exporter": "python",
   "pygments_lexer": "ipython3",
   "version": "3.11.6"
  }
 },
 "nbformat": 4,
 "nbformat_minor": 2
}
