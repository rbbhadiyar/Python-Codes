{
 "cells": [
  {
   "cell_type": "markdown",
   "metadata": {},
   "source": [
    "1. Given a list of numbers, find out its length.\n"
   ]
  },
  {
   "cell_type": "code",
   "execution_count": 6,
   "metadata": {},
   "outputs": [
    {
     "name": "stdout",
     "output_type": "stream",
     "text": [
      "The length of given list is: 4\n"
     ]
    }
   ],
   "source": [
    "#Method 1\n",
    "#here we will find the length of given list without using \"len\" function\n",
    "#lst = given a list of numbers\n",
    "lst=[5,7,9,11]\n",
    "\n",
    "#initiating a variable\n",
    "count1=0\n",
    "\n",
    "#iterating through each element of list\n",
    "for i in lst:\n",
    "    \n",
    "    #increasing the value of count1 variable by 1 each time when for loop completes\n",
    "    count1+=1\n",
    "print(\"The length of given list is:\",count1)"
   ]
  },
  {
   "cell_type": "code",
   "execution_count": 7,
   "metadata": {},
   "outputs": [
    {
     "name": "stdout",
     "output_type": "stream",
     "text": [
      "The length of given list is: 4\n"
     ]
    }
   ],
   "source": [
    "#Method 2\n",
    "#here we will find the length of given list using \"len\" function\n",
    "#lst = given a list of numbers\n",
    "lst=[5,7,9,11]\n",
    "print(\"The length of given list is:\",len(lst))"
   ]
  },
  {
   "cell_type": "code",
   "execution_count": null,
   "metadata": {},
   "outputs": [],
   "source": []
  }
 ],
 "metadata": {
  "kernelspec": {
   "display_name": "Python 3",
   "language": "python",
   "name": "python3"
  },
  "language_info": {
   "codemirror_mode": {
    "name": "ipython",
    "version": 3
   },
   "file_extension": ".py",
   "mimetype": "text/x-python",
   "name": "python",
   "nbconvert_exporter": "python",
   "pygments_lexer": "ipython3",
   "version": "3.11.6"
  }
 },
 "nbformat": 4,
 "nbformat_minor": 2
}
