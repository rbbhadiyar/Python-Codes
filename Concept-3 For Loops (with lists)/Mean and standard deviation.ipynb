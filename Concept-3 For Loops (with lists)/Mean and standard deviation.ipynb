{
 "cells": [
  {
   "cell_type": "markdown",
   "metadata": {},
   "source": [
    "4. Given a list of numbers, find out the mean and\n",
    "standard deviation."
   ]
  },
  {
   "cell_type": "code",
   "execution_count": null,
   "metadata": {},
   "outputs": [],
   "source": [
    "#here we will find the mean and standard deviation of numbers given in the list\n",
    "#lst = given a list of numbers\n",
    "lst=[5,6,8,3,9,4,7]\n",
    "\n",
    "#finding the lenght of given list(lst) and storing it in variable a\n",
    "a=len(lst)\n",
    "# finding sum of the lst using sum function and storing it in variable sum_num\n",
    "sum_num=sum(lst)\n",
    "\n",
    "#finding average of the elements in the lst\n",
    "b= sum_num/a\n",
    "\n",
    "print('Mean of the numbers in lst is:', b)\n",
    "\n",
    "#iterating through each element of the lst\n",
    "for i in lst:\n",
    "    #taking difference of each element of list1 with average\n",
    "    xi=i-b\n",
    "    #append the difference in new list2\n",
    "    list2.append(xi)\n",
    "\n",
    "list3=[]\n",
    "#iterating through each element of the list2\n",
    "for i in list2:\n",
    "    #taking sqaure of differences ( elements of list2 )\n",
    "    xs=i*i\n",
    "    #append the squares in new list3\n",
    "    list3.append(xs)\n",
    "\n",
    "#finding sum of list3\n",
    "sum2= sum(list3)\n",
    "#apply standard deviation formula \n",
    "dev=(sum2/(a-1))**0.5\n",
    "print('standard deviation is', dev)"
   ]
  }
 ],
 "metadata": {
  "language_info": {
   "name": "python"
  }
 },
 "nbformat": 4,
 "nbformat_minor": 2
}
