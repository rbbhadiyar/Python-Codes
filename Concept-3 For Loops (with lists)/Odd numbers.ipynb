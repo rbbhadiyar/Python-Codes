{
 "cells": [
  {
   "cell_type": "markdown",
   "metadata": {},
   "source": [
    "6. Given a list of numbers, find all the odd numbers in\n",
    "it."
   ]
  },
  {
   "cell_type": "code",
   "execution_count": 7,
   "metadata": {},
   "outputs": [
    {
     "name": "stdout",
     "output_type": "stream",
     "text": [
      "Odd numbers in the list are:\n",
      "9\n",
      "3\n",
      "13\n",
      "15\n",
      "21\n",
      "17\n"
     ]
    }
   ],
   "source": [
    "#here we will find odds numbers given in the list\n",
    "#lst = given a list of numbers\n",
    "lst= [0,6,9,3,2,4,8,18,13,15,26,21,17]\n",
    "print(\"Odd numbers in the list are:\")\n",
    "\n",
    "#iterating through each element of list\n",
    "for i in lst:\n",
    "    \n",
    "    #if number in the list divided by 2 do not gives the remainder zero then that number is odd\n",
    "    if i%2!=0:\n",
    "        print(i)"
   ]
  },
  {
   "cell_type": "code",
   "execution_count": null,
   "metadata": {},
   "outputs": [],
   "source": []
  }
 ],
 "metadata": {
  "kernelspec": {
   "display_name": "Python 3",
   "language": "python",
   "name": "python3"
  },
  "language_info": {
   "codemirror_mode": {
    "name": "ipython",
    "version": 3
   },
   "file_extension": ".py",
   "mimetype": "text/x-python",
   "name": "python",
   "nbconvert_exporter": "python",
   "pygments_lexer": "ipython3",
   "version": "3.11.6"
  }
 },
 "nbformat": 4,
 "nbformat_minor": 2
}
