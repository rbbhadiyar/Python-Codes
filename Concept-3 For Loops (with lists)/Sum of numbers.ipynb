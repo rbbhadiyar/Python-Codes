{
 "cells": [
  {
   "cell_type": "markdown",
   "metadata": {},
   "source": [
    "3. Given a list of numbers, find the sum of all the\n",
    "numbers."
   ]
  },
  {
   "cell_type": "code",
   "execution_count": 2,
   "metadata": {},
   "outputs": [
    {
     "name": "stdout",
     "output_type": "stream",
     "text": [
      "Sum of numbers given in the list is: 29\n"
     ]
    }
   ],
   "source": [
    "#here we will find the sum of numbers given in the list\n",
    "#lst = given a list of numbers\n",
    "lst=[1,5,6,9,8]\n",
    "\n",
    "#initiating a variable\n",
    "sum_num=0\n",
    "\n",
    "#iterating through each element of list\n",
    "for i in lst:\n",
    "    \n",
    "    #adding each of the elements and updating the variable\n",
    "    sum_num+=i\n",
    "print(\"Sum of numbers given in the list is:\",sum_num)"
   ]
  },
  {
   "cell_type": "code",
   "execution_count": null,
   "metadata": {},
   "outputs": [],
   "source": []
  }
 ],
 "metadata": {
  "kernelspec": {
   "display_name": "Python 3",
   "language": "python",
   "name": "python3"
  },
  "language_info": {
   "codemirror_mode": {
    "name": "ipython",
    "version": 3
   },
   "file_extension": ".py",
   "mimetype": "text/x-python",
   "name": "python",
   "nbconvert_exporter": "python",
   "pygments_lexer": "ipython3",
   "version": "3.11.6"
  }
 },
 "nbformat": 4,
 "nbformat_minor": 2
}
