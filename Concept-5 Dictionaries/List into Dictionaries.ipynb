{
 "cells": [
  {
   "cell_type": "markdown",
   "metadata": {},
   "source": [
    "1. Convert these two lists into a dictionary. Take the\n",
    "keys from the first list, and values from the second\n",
    "one.\n",
    "keys = [‘Ten’, ‘Twenty’, ‘Thirty’]\n",
    "values = [10, 20, 30]"
   ]
  },
  {
   "cell_type": "code",
   "execution_count": 1,
   "metadata": {},
   "outputs": [
    {
     "name": "stdout",
     "output_type": "stream",
     "text": [
      "{'Ten': 10, 'Twenty': 20, 'Thirty': 30}\n"
     ]
    }
   ],
   "source": [
    "#taking two lists as input for keys, values respectively\n",
    "list_keys=['Ten','Twenty','Thirty']\n",
    "list_values=[10,20,30]\n",
    "\n",
    "#creating a empty dictionary\n",
    "dict_new={}\n",
    "\n",
    "#iterating over each element in range of length of list_keys\n",
    "for i in range(len(list_keys)):\n",
    "    #assigning key from list_keys  value from list_values\n",
    "    dict_new[list_keys[i]]=list_values[i]\n",
    "    \n",
    "print(dict_new)"
   ]
  },
  {
   "cell_type": "code",
   "execution_count": null,
   "metadata": {},
   "outputs": [],
   "source": []
  }
 ],
 "metadata": {
  "kernelspec": {
   "display_name": "Python 3",
   "language": "python",
   "name": "python3"
  },
  "language_info": {
   "codemirror_mode": {
    "name": "ipython",
    "version": 3
   },
   "file_extension": ".py",
   "mimetype": "text/x-python",
   "name": "python",
   "nbconvert_exporter": "python",
   "pygments_lexer": "ipython3",
   "version": "3.11.6"
  }
 },
 "nbformat": 4,
 "nbformat_minor": 2
}
