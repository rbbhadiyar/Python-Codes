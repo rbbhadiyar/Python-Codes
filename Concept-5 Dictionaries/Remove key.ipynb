{
 "cells": [
  {
   "cell_type": "markdown",
   "metadata": {},
   "source": [
    "5. Remove a key from a dictionary:\n",
    "dict_name.pop(key_name)\n",
    "What does this function return?\n",
    "Use pop to rename a key."
   ]
  },
  {
   "cell_type": "markdown",
   "metadata": {},
   "source": []
  },
  {
   "cell_type": "code",
   "execution_count": 2,
   "metadata": {},
   "outputs": [
    {
     "name": "stdout",
     "output_type": "stream",
     "text": [
      "Dictionary after using pop(): {'name': 'kelly', 'age': 25, 'salary': 8000}\n",
      "Dictionary after renaming key by using pop(): {'age': 25, 'salary': 8000, 'username': 'kelly'}\n"
     ]
    }
   ],
   "source": [
    "#taking sample dict according to question\n",
    "sample_dict = {'name':'kelly','age':25 , 'salary':8000,'city':'new york'}\n",
    "\n",
    "#Pop() function removes given key(complete pair of key and value)\n",
    "sample_dict.pop('city')\n",
    "print('Dictionary after using pop():',sample_dict)\n",
    "#pop() removes key but holds value of it, if we rename the key it will display the value with renamed key\n",
    "sample_dict['username'] = sample_dict.pop('name')\n",
    "print('Dictionary after renaming key by using pop():',sample_dict)"
   ]
  },
  {
   "cell_type": "code",
   "execution_count": null,
   "metadata": {},
   "outputs": [],
   "source": []
  }
 ],
 "metadata": {
  "kernelspec": {
   "display_name": "Python 3",
   "language": "python",
   "name": "python3"
  },
  "language_info": {
   "codemirror_mode": {
    "name": "ipython",
    "version": 3
   },
   "file_extension": ".py",
   "mimetype": "text/x-python",
   "name": "python",
   "nbconvert_exporter": "python",
   "pygments_lexer": "ipython3",
   "version": "3.11.6"
  }
 },
 "nbformat": 4,
 "nbformat_minor": 2
}
