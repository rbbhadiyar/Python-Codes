{
 "cells": [
  {
   "cell_type": "markdown",
   "metadata": {},
   "source": [
    "6. Create a dictionary to store the total marks of 5\n",
    "students in the class in 3 subjects (Course1, Course2,\n",
    "Course3). The keys must be the student names, and\n",
    "the values must be the list of marks. Create another\n",
    "list which has the course names in the same order as\n",
    "the marks are stored in the dictionary values. Now\n",
    "write a nested for loop to print the marks for each\n",
    "student exam wise.\n",
    "Student1\n",
    "Course1 marks : 82\n",
    "Course2 marks : 84\n",
    "Course3 marks : 72\n",
    "Student2\n",
    "Course1 marks : 87\n",
    "Course2 marks : 83\n",
    "Course3 marks : 78"
   ]
  },
  {
   "cell_type": "code",
   "execution_count": 5,
   "metadata": {},
   "outputs": [
    {
     "name": "stdout",
     "output_type": "stream",
     "text": [
      "Student1\n",
      "Course1 : 70\n",
      "Course2 : 50\n",
      "Course3 : 66\n",
      "\n",
      "\n",
      "Student2\n",
      "Course1 : 82\n",
      "Course2 : 83\n",
      "Course3 : 76\n",
      "\n",
      "\n",
      "Student3\n",
      "Course1 : 74\n",
      "Course2 : 77\n",
      "Course3 : 98\n",
      "\n",
      "\n",
      "Student4\n",
      "Course1 : 77\n",
      "Course2 : 88\n",
      "Course3 : 91\n",
      "\n",
      "\n",
      "Student5\n",
      "Course1 : 82\n",
      "Course2 : 88\n",
      "Course3 : 95\n",
      "\n",
      "\n"
     ]
    }
   ],
   "source": [
    "dictm={}\n",
    "dictm['Student1']=[70,50,66]\n",
    "dictm['Student2']=[82,83,76]\n",
    "dictm['Student3']=[74,77,98]\n",
    "dictm['Student4']=[77,88,91]\n",
    "dictm['Student5']=[82,88,95]\n",
    "course_name=['Course1','Course2','Course3']\n",
    "for x,y in dictm.items():\n",
    "    print(x)\n",
    "    for j in range(len(course_name)): \n",
    "        print(course_name[j],\":\",y[j])\n",
    "    print('\\n')"
   ]
  },
  {
   "cell_type": "code",
   "execution_count": null,
   "metadata": {},
   "outputs": [],
   "source": []
  }
 ],
 "metadata": {
  "kernelspec": {
   "display_name": "Python 3",
   "language": "python",
   "name": "python3"
  },
  "language_info": {
   "codemirror_mode": {
    "name": "ipython",
    "version": 3
   },
   "file_extension": ".py",
   "mimetype": "text/x-python",
   "name": "python",
   "nbconvert_exporter": "python",
   "pygments_lexer": "ipython3",
   "version": "3.11.6"
  }
 },
 "nbformat": 4,
 "nbformat_minor": 2
}
