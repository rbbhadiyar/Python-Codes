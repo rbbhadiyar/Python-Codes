{
 "cells": [
  {
   "cell_type": "markdown",
   "metadata": {},
   "source": [
    "2. Merge these two dictionaries into one using for loop\n",
    "dict1 = {‘Ten’: 10, ‘Twenty’: 20, ‘Thirty’: 30}\n",
    "dict2 = {‘Thirty’: 30, ‘Fourty’: 40, ‘Fifty’: 50}"
   ]
  },
  {
   "cell_type": "code",
   "execution_count": 1,
   "metadata": {},
   "outputs": [
    {
     "name": "stdout",
     "output_type": "stream",
     "text": [
      "{'Ten': 10, 'Twenty': 20, 'Thirty': 30, 'Fourty': 40, 'Fifty': 50}\n"
     ]
    }
   ],
   "source": [
    "#taking two dictionaries as given in question\n",
    "dict_1={ 'Ten': 10, 'Twenty': 20, 'Thirty': 30}\n",
    "dict_2={'Thirty': 30,'Fourty': 40, 'Fifty': 50}\n",
    "\n",
    "#creating a copy of dict_1 and naming as dict_3\n",
    "dict_3=dict_1.copy()\n",
    "\n",
    "#iterating over every keys and values of dict_2\n",
    "for keys, values in dict_2.items():\n",
    "    \n",
    "    #adding the keys and values of dict_2 to dict_3 which are not there already\n",
    "    dict_3[keys]=values\n",
    "\n",
    "print(dict_3)"
   ]
  },
  {
   "cell_type": "code",
   "execution_count": null,
   "metadata": {},
   "outputs": [],
   "source": []
  }
 ],
 "metadata": {
  "kernelspec": {
   "display_name": "Python 3",
   "language": "python",
   "name": "python3"
  },
  "language_info": {
   "codemirror_mode": {
    "name": "ipython",
    "version": 3
   },
   "file_extension": ".py",
   "mimetype": "text/x-python",
   "name": "python",
   "nbconvert_exporter": "python",
   "pygments_lexer": "ipython3",
   "version": "3.11.6"
  }
 },
 "nbformat": 4,
 "nbformat_minor": 2
}
