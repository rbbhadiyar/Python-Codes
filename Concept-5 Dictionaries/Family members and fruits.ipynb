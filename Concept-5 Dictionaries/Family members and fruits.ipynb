{
 "cells": [
  {
   "cell_type": "markdown",
   "metadata": {},
   "source": [
    "9. Create a dictionary whose keys are the names of your\n",
    "family members and friends, and the values are the\n",
    "list of fruits they like to eat. Now if the user gives a\n",
    "fruit as input, the code should print the list of names\n",
    "who like this fruit. Write another code to print the list\n",
    "of people who do not like this fruit. Using this\n",
    "dictionary as input, write a code to make a\n",
    "consolidated list of all the fruit names present in the\n",
    "values of various keys. This list should not have any\n",
    "duplicate entries. Do not use the set() function."
   ]
  },
  {
   "cell_type": "code",
   "execution_count": null,
   "metadata": {},
   "outputs": [],
   "source": []
  }
 ],
 "metadata": {
  "language_info": {
   "name": "python"
  }
 },
 "nbformat": 4,
 "nbformat_minor": 2
}
