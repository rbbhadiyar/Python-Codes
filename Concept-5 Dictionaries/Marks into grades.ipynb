{
 "cells": [
  {
   "cell_type": "markdown",
   "metadata": {},
   "source": [
    "7. Write a for loop to create another dictionary from the\n",
    "above where the marks are replaced by grades. Above\n",
    "80 is A grade, 60–80 is B grade, 40–60 is C grade,\n",
    "and below 40 is F. Create another dictionary to store\n",
    "the max and average marks for each student. Use this\n",
    "dictionary to compute the final CPI/CGPA of the\n",
    "student. Course1 is of 4 credits, Course2 of 10 credits,\n",
    "and Course3 of 6 credits. Store these credits in a list.\n",
    "Write this dictionary as a json file, and read it back\n",
    "into a new dictionary."
   ]
  },
  {
   "cell_type": "code",
   "execution_count": null,
   "metadata": {},
   "outputs": [],
   "source": []
  }
 ],
 "metadata": {
  "language_info": {
   "name": "python"
  }
 },
 "nbformat": 4,
 "nbformat_minor": 2
}
