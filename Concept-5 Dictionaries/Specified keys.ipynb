{
 "cells": [
  {
   "cell_type": "markdown",
   "metadata": {},
   "source": [
    "4. Create a new dictionary so that it only has the keys\n",
    "mentioned in another list\n",
    "sample_dict = { “name”: “Kelly”, “age”: 25, “salary”:\n",
    "8000, “city”: “New york”}\n",
    "# Keys to extract\n",
    "keys = [“name”, “salary”]"
   ]
  },
  {
   "cell_type": "code",
   "execution_count": 1,
   "metadata": {},
   "outputs": [
    {
     "name": "stdout",
     "output_type": "stream",
     "text": [
      "{'name': 'Kelly', 'salary': 8000}\n"
     ]
    }
   ],
   "source": [
    "#Taking sample dict and keys to extract according to question\n",
    "sample_dict = { 'name':'Kelly', 'age': 25, 'salary': 8000, 'city': 'New york'}\n",
    "keys = ['name', 'salary',]\n",
    "\n",
    "#creating new dictionary to extract the values\n",
    "dict_new = {}\n",
    "\n",
    "for key,value in sample_dict.items():\n",
    "    for k in keys:                      \n",
    "        if k == key:\n",
    "\n",
    "            #In the new dictionary taking keys given in list and assigning corresponding values of keys.\n",
    "            dict_new[k] = value            \n",
    "print(dict_new)"
   ]
  }
 ],
 "metadata": {
  "kernelspec": {
   "display_name": "Python 3",
   "language": "python",
   "name": "python3"
  },
  "language_info": {
   "codemirror_mode": {
    "name": "ipython",
    "version": 3
   },
   "file_extension": ".py",
   "mimetype": "text/x-python",
   "name": "python",
   "nbconvert_exporter": "python",
   "pygments_lexer": "ipython3",
   "version": "3.11.6"
  }
 },
 "nbformat": 4,
 "nbformat_minor": 2
}
