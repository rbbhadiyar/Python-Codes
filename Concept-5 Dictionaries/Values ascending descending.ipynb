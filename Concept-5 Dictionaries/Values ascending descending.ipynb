{
 "cells": [
  {
   "cell_type": "markdown",
   "metadata": {},
   "source": [
    "8. Create a dictionary of your marks in various subjects\n",
    "and then sort it by its values first in descending order,\n",
    "and then in or ascending order. Do not use any\n",
    "inbuilt sorting functions."
   ]
  },
  {
   "cell_type": "code",
   "execution_count": null,
   "metadata": {},
   "outputs": [],
   "source": []
  }
 ],
 "metadata": {
  "language_info": {
   "name": "python"
  }
 },
 "nbformat": 4,
 "nbformat_minor": 2
}
