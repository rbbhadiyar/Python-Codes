{
 "cells": [
  {
   "cell_type": "markdown",
   "metadata": {},
   "source": [
    "10. Create a text file with one word in each line. The\n",
    "words can be repeated, i.e. the same word can come\n",
    "in more than one line. Read this text file in python,\n",
    "and create a dictionary where the key is the word and\n",
    "the value is the number of times it occurs in the text\n",
    "file."
   ]
  },
  {
   "cell_type": "code",
   "execution_count": null,
   "metadata": {},
   "outputs": [],
   "source": []
  }
 ],
 "metadata": {
  "language_info": {
   "name": "python"
  }
 },
 "nbformat": 4,
 "nbformat_minor": 2
}
